{
 "cells": [
  {
   "cell_type": "markdown",
   "metadata": {},
   "source": [
    "### 912 Sort an array"
   ]
  },
  {
   "cell_type": "code",
   "execution_count": null,
   "metadata": {},
   "outputs": [],
   "source": [
    "#merge Sort\n",
    "\n",
    "def sortArray(self, nums: List[int]) -> List[int]:\n",
    "    def mergeSort(alist):\n",
    "        #partition\n",
    "        if len(alist)>1:\n",
    "            mid=len(alist)//2\n",
    "            left=alist[:mid]\n",
    "            right=alist[mid:]\n",
    "            \n",
    "            mergeSort(left)\n",
    "            mergeSort(right)\n",
    "          \n",
    "        #merge\n",
    "            i=j=k=0\n",
    "            while i < len(left) and j<len(right):\n",
    "                if left[i]<right[j]:\n",
    "                    alist[k]=left[i]\n",
    "                    i+=1\n",
    "                else:\n",
    "                    alist[k]=right[j]\n",
    "                    j+=1\n",
    "                k+=1\n",
    "                \n",
    "            while i<len(left):\n",
    "                alist[k]=left[i]\n",
    "                i+=1\n",
    "                k+=1\n",
    "            while j<len(right):\n",
    "                alist[k]=right[j]\n",
    "                j+=1\n",
    "                k+=1\n",
    "                \n",
    "    mergeSort(nums)\n",
    "    return nums\n",
    "#T: nlogn"
   ]
  },
  {
   "cell_type": "code",
   "execution_count": null,
   "metadata": {},
   "outputs": [],
   "source": [
    "#quick Sort\n",
    "\n",
    "def sortArray(self, nums: List[int]) -> List[int]:\n",
    "    def quickSort(alist, first, last):\n",
    "        if first<last:\n",
    "            splitpoint=partition(alist, first, last)\n",
    "\n",
    "            quickSort(alist, first, splitpoint-1)\n",
    "            quickSort(alist, splitpoint+1, last)\n",
    "\n",
    "    def partition(alist, first, last):\n",
    "        pivot=alist[first]   #can try other choices\n",
    "        leftmark=first+1\n",
    "        rightmark=last\n",
    "\n",
    "        done=False\n",
    "        while not done:\n",
    "            while leftmark <= rightmark and alist[leftmark] <= pivot:\n",
    "                leftmark += 1\n",
    "            while leftmark <= rightmark and pivot <= alist[rightmark]:\n",
    "                rightmark -=1\n",
    "\n",
    "            if  leftmark > rightmark : #cross\n",
    "                done=True\n",
    "            else:\n",
    "                temp=alist[leftmark]\n",
    "                alist[leftmark]=alist[rightmark]\n",
    "                alist[rightmark]=temp\n",
    "\n",
    "        temp=alist[first]\n",
    "        alist[first]=alist[rightmark]\n",
    "        alist[rightmark]=temp\n",
    "\n",
    "        return rightmark\n",
    "\n",
    "    quickSort(nums, 0, len(nums)-1)\n",
    "    return nums\n",
    "#T: Avg: nlogn, worse:n^2"
   ]
  },
  {
   "cell_type": "code",
   "execution_count": null,
   "metadata": {},
   "outputs": [],
   "source": [
    "#better ways for quicksort\n",
    "class Solution:\n",
    "    def sortArray(self, nums: List[int]) -> List[int]:\n",
    "    \n",
    "        self.quickSort(nums, 0, len(nums)-1)\n",
    "        return nums\n",
    "    \n",
    "    def quickSort(self, nums, low, high):\n",
    "        def partition(nums, low, high):\n",
    "            i = low - 1\n",
    "            pivot = nums[high]\n",
    "\n",
    "            for j in range(low , high):\n",
    "                if   nums[j] <= pivot: #increasing\n",
    "                    i = i + 1 \n",
    "                    nums[i], nums[j] = nums[j], nums[i] \n",
    "\n",
    "            nums[i+1], nums[high] = nums[high], nums[i+1] \n",
    "            return i + 1\n",
    "\n",
    "        if low < high:\n",
    "            pi = partition(nums, low, high) \n",
    "\n",
    "            self.quickSort(nums, low, pi-1)\n",
    "            self.quickSort(nums, pi+1, high)"
   ]
  },
  {
   "cell_type": "markdown",
   "metadata": {},
   "source": [
    "### 215. Kth Largest Element in an Array"
   ]
  },
  {
   "cell_type": "code",
   "execution_count": null,
   "metadata": {},
   "outputs": [],
   "source": [
    "#1. mergesort takes too long time\n",
    "#2. quick sort\n",
    "class Solution:\n",
    "    def findKthLargest(self, nums: List[int], k: int) -> int:\n",
    "        self.quickSort(nums, 0, len(nums)-1)\n",
    "        return nums[k-1]\n",
    "    def quickSort(self, nums, low, high): # a better quicksort procedure\n",
    "        def partition(nums, low, high):\n",
    "            i = low - 1\n",
    "            pivot=nums[high]\n",
    "            \n",
    "            for j in range(low , high):\n",
    "                if   nums[j] >= pivot: \n",
    "                    i = i + 1 \n",
    "                    nums[i], nums[j] = nums[j], nums[i] \n",
    "\n",
    "            nums[i+1], nums[high] = nums[high], nums[i+1] \n",
    "            \n",
    "            return i + 1\n",
    "\n",
    "        if low < high:\n",
    "            pi = partition(nums, low, high)\n",
    "            self.quickSort(nums, low, pi-1)\n",
    "            self.quickSort(nums, pi+1, high)\n",
    "            \n",
    "    #T: Avg: O(nlogn), Worse: n^2"
   ]
  },
  {
   "cell_type": "code",
   "execution_count": null,
   "metadata": {},
   "outputs": [],
   "source": [
    "#3.idea from quicksort, but不需要像 2 那样把每个半边都全排序。 \n",
    "#when pivot found，if pivot左半边刚好是k-1个数，return pivot\n",
    "#if 左半边小于k-1个，目标在右半边，反之,目标在左半边\n",
    "class Solution:\n",
    "    def findKthLargest(self, nums: List[int], k: int) -> int:\n",
    "        low, high = 0, len(nums)-1\n",
    "        while low<=high:\n",
    "            pi=self.partition(nums, low, high)\n",
    "            if pi==k-1:\n",
    "                return nums[pi]\n",
    "            elif pi>=k-1:\n",
    "                high=pi-1\n",
    "            else:\n",
    "                low=pi+1\n",
    "       \n",
    "    def partition(self, nums, low, high): #decreasing\n",
    "            i = low - 1\n",
    "            pivot = nums[high]\n",
    "\n",
    "            for j in range(low , high):\n",
    "                if   nums[j] >= pivot:  #search larger nums(than pivot), then exchange with smaller(than pivot)\n",
    "                    i = i + 1 \n",
    "                    nums[i], nums[j] = nums[j], nums[i] \n",
    "\n",
    "            nums[i+1], nums[high] = nums[high], nums[i+1] \n",
    "\n",
    "            return i + 1\n",
    "        \n",
    "    #T: avg O(n), worse O(n^2). S: O(1)"
   ]
  },
  {
   "cell_type": "code",
   "execution_count": null,
   "metadata": {},
   "outputs": [],
   "source": [
    "#4.same idea as 3 but faster\n",
    "#use build-in fuction to select pivot: choice in random package\n",
    "class Solution:\n",
    "    def findKthLargest(self, nums: List[int], k: int) -> int:\n",
    "        pivot = random.choice(nums)\n",
    "        nums1, nums2 = [], []\n",
    "        for num in nums:\n",
    "            if num > pivot:\n",
    "                nums1.append(num)\n",
    "            elif num < pivot:\n",
    "                nums2.append(num)\n",
    "        if k <= len(nums1):  #target is in nums1\n",
    "            return self.findKthLargest(nums1, k)\n",
    "        if k > len(nums) - len(nums2): # in nums2\n",
    "            return self.findKthLargest(nums2, k - (len(nums) - len(nums2)))  #notice: change 2th parameter\n",
    "        return pivot"
   ]
  },
  {
   "cell_type": "code",
   "execution_count": null,
   "metadata": {},
   "outputs": [],
   "source": [
    "#5. priority quene based heap\n",
    "# T: O(nlogK) since build a binheap with K nodes is log(K) times, Each time search n times, \n",
    "# S:O(K), since build a binheap with n nodes is O(n) space"
   ]
  },
  {
   "cell_type": "code",
   "execution_count": null,
   "metadata": {},
   "outputs": [],
   "source": [
    "#6.the fastest: use build-in function: sorted\n",
    "class Solution:\n",
    "    def findKthLargest(self, nums: List[int], k: int) -> int:\n",
    "        return sorted(nums,reverse=True)[k-1]\n",
    "#what's idea behind sorted function in python?"
   ]
  },
  {
   "cell_type": "markdown",
   "metadata": {},
   "source": [
    "### 148 sort an linked list\n",
    "#Sort a linked list in O(n log n) time using constant space complexity."
   ]
  },
  {
   "cell_type": "code",
   "execution_count": null,
   "metadata": {},
   "outputs": [],
   "source": [
    "#merge sort, and learn operation of linked list\n",
    "class Solution:\n",
    "    def sortList(self, head: ListNode) -> ListNode:\n",
    "        if head is None or head.next is None:\n",
    "            return head\n",
    "\n",
    "        #partition\n",
    "        slow=fast=head\n",
    "        while fast.next and fast.next.next:\n",
    "            slow=slow.next\n",
    "            fast=fast.next.next\n",
    "        mid=slow\n",
    "        left=head\n",
    "        right=mid.next\n",
    "        mid.next=None\n",
    "\n",
    "        #merge\n",
    "        def merge(lhead,rhead):\n",
    "            dumNode=ListNode(0)\n",
    "            dumHead=dumNode\n",
    "            i,j=lhead,rhead\n",
    "            while i  and j:\n",
    "                if i.val<j.val:\n",
    "                    dumNode.next=i\n",
    "                    i=i.next\n",
    "                else:\n",
    "                    dumNode.next=j\n",
    "                    j=j.next\n",
    "                dumNode=dumNode.next\n",
    "\n",
    "            if i:\n",
    "                dumNode.next=i\n",
    "            if j:\n",
    "                dumNode.next=j\n",
    "\n",
    "            return dumHead.next\n",
    "\n",
    "        return merge(self.sortList(left), self.sortList(right))"
   ]
  },
  {
   "cell_type": "markdown",
   "metadata": {},
   "source": [
    "### 21. Merge Two Sorted Lists"
   ]
  },
  {
   "cell_type": "code",
   "execution_count": null,
   "metadata": {},
   "outputs": [],
   "source": [
    "class Solution:\n",
    "    def mergeTwoLists(self, l1: ListNode, l2: ListNode) -> ListNode:\n",
    "        dumNode=ListNode(0)\n",
    "        dumHead=dumNode\n",
    "        i,j=l1,l2\n",
    "        while i  and j:\n",
    "            if i.val<j.val:\n",
    "                dumNode.next=i\n",
    "                i=i.next\n",
    "            else:\n",
    "                dumNode.next=j\n",
    "                j=j.next\n",
    "            dumNode=dumNode.next\n",
    "\n",
    "        if i:\n",
    "            dumNode.next=i\n",
    "        if j:\n",
    "            dumNode.next=j\n",
    "        \n",
    "        return dumHead.next"
   ]
  },
  {
   "cell_type": "markdown",
   "metadata": {},
   "source": [
    "### 23. Merge k Sorted Lists"
   ]
  },
  {
   "cell_type": "code",
   "execution_count": null,
   "metadata": {},
   "outputs": [],
   "source": [
    "class Solution:\n",
    "    def mergeKLists(self, lists: List[ListNode]) -> ListNode:\n",
    "        k = len(lists)\n",
    "        step = 1\n",
    "        while step < k:\n",
    "            for i in range(0, k - step, step * 2):\n",
    "                lists[i] = self.merge2(lists[i], lists[i + step])\n",
    "            step *= 2\n",
    "        return lists[0] if k > 0 else lists\n",
    "\n",
    "    def merge2(self, l1, l2):\n",
    "        Head=tempNode=ListNode(0)\n",
    "        i,j=l1,l2\n",
    "        while i  and j:\n",
    "            if i.val<j.val:\n",
    "                tempNode.next=i\n",
    "                i=i.next\n",
    "            else:\n",
    "                tempNode.next=j\n",
    "                j=j.next\n",
    "            tempNode=tempNode.next\n",
    "\n",
    "        if i:\n",
    "            tempNode.next=i\n",
    "        if j:\n",
    "            tempNode.next=j\n",
    "        \n",
    "        return Head.next\n"
   ]
  },
  {
   "cell_type": "markdown",
   "metadata": {},
   "source": [
    "![](img/DC1.png \"23\")"
   ]
  },
  {
   "cell_type": "markdown",
   "metadata": {},
   "source": [
    "### 53. Maximum Subarray"
   ]
  },
  {
   "cell_type": "code",
   "execution_count": null,
   "metadata": {},
   "outputs": [],
   "source": [
    "class Solution:\n",
    "    def maxSubArray(self, nums: List[int]) -> int:\n",
    "        left, right = 0, len(nums)-1\n",
    "        def maxsub(nums,left,right):\n",
    "            if left==right:\n",
    "                return nums[left]\n",
    "\n",
    "            mid = (left+right)//2\n",
    "            maxL = maxsub(nums,left, mid)\n",
    "            maxR = maxsub(nums,mid+1, right)\n",
    "\n",
    "            #max sum acrossing the separator\n",
    "            #across left \n",
    "            sumL=tempL=nums[mid]\n",
    "            for i in range(mid-1,left-1,-1):\n",
    "                    tempL += nums[i]\n",
    "                    if tempL>sumL:\n",
    "                        sumL = tempL\n",
    "            #across to right\n",
    "            sumR=tempR=nums[mid+1]\n",
    "            for j in range(mid+2,right+1):\n",
    "                    tempR += nums[j]\n",
    "                    if tempR>sumR:\n",
    "                        sumR = tempR\n",
    "            maxmid=sumL+sumR\n",
    "            return max(maxL, maxR, maxmid)\n",
    "        \n",
    "        return maxsub(nums, left, right)\n",
    "    "
   ]
  },
  {
   "cell_type": "markdown",
   "metadata": {},
   "source": [
    "### 54 Spiral Matrix"
   ]
  },
  {
   "cell_type": "code",
   "execution_count": null,
   "metadata": {},
   "outputs": [],
   "source": [
    "#分:处理4 个方向\n",
    "#治：逐层输出"
   ]
  },
  {
   "cell_type": "code",
   "execution_count": null,
   "metadata": {},
   "outputs": [],
   "source": [
    "#non-recursive\n",
    "class Solution:\n",
    "    def spiralOrder(self, matrix):\n",
    "        if matrix == []: return []\n",
    "        r1, r2 , c1, c2= 0, len(matrix) - 1, 0, len(matrix[0]) - 1\n",
    "        direct = 0  # 0: go right   1: go down  2: go left  3: go up\n",
    "        res = []\n",
    "        while True:\n",
    "            if direct == 0:\n",
    "                for i in range(c1, c2+1):\n",
    "                    res.append(matrix[r1][i])\n",
    "                r1 += 1\n",
    "            if direct == 1:\n",
    "                for i in range(r1, r2+1):\n",
    "                    res.append(matrix[i][c2])\n",
    "                c2 -= 1\n",
    "            if direct == 2:\n",
    "                for i in range(c2, c1-1, -1):\n",
    "                    res.append(matrix[r2][i])\n",
    "                r2 -= 1\n",
    "            if direct == 3:\n",
    "                for i in range(r2, r1-1, -1):\n",
    "                    res.append(matrix[i][c1])\n",
    "                c1 += 1\n",
    "            if r1 > r2 or c1 > c2: return res\n",
    "            direct = (direct+1) % 4\n",
    "     #O(n)"
   ]
  },
  {
   "cell_type": "code",
   "execution_count": null,
   "metadata": {},
   "outputs": [],
   "source": [
    "#recursive, \n",
    "class Solution:\n",
    "    def spiralOrder(self, matrix: List[List[int]]) -> List[int]:\n",
    "        if not matrix: return []\n",
    "        res = []\n",
    "        r1, r2 , c1, c2= 0, len(matrix) - 1, 0, len(matrix[0]) - 1\n",
    "        \n",
    "        def divide(r1, c1, r2, c2):\n",
    "            for c in range(c1, c2 + 1):\n",
    "                yield r1, c\n",
    "            for r in range(r1 + 1, r2 + 1):\n",
    "                yield r, c2\n",
    "            if r1 < r2 and c1 < c2:\n",
    "                for c in range(c2 - 1, c1, -1):\n",
    "                    yield r2, c\n",
    "                for r in range(r2, r1, -1):\n",
    "                    yield r, c1\n",
    "\n",
    "        #conquer\n",
    "        while r1 <= r2 and c1 <= c2:\n",
    "            for r, c in divide(r1, c1, r2, c2):\n",
    "                res.append(matrix[r][c])\n",
    "            r1 += 1; r2 -= 1\n",
    "            c1 += 1; c2 -= 1\n",
    "        return res\n",
    "    #regarding to non-recursive method, it's very slow even though O(n)\n",
    "    #since many assignment when recursive"
   ]
  },
  {
   "cell_type": "markdown",
   "metadata": {},
   "source": [
    "### 395. Longest Substring with At Least K Repeating Characters"
   ]
  },
  {
   "cell_type": "markdown",
   "metadata": {},
   "source": [
    "#### idea using divide and conquer\n",
    "#### the final substr has no alph whose appearence num is < k\n",
    "#### so split the string using these alphs"
   ]
  },
  {
   "cell_type": "code",
   "execution_count": null,
   "metadata": {},
   "outputs": [],
   "source": [
    "#using build-in function\n",
    "class Solution:\n",
    "    def longestSubstring(self, s: str, k: int) -> int:\n",
    "        cnt=collections.Counter(s) # return a library\n",
    "        separator=[i for i in cnt if cnt[i]<k]\n",
    "        if not separator:\n",
    "            return len(s)\n",
    "        sub=re.split('|'.join(separator),s)\n",
    "        return max(self.longestSubstring(t,k) for t in sub)"
   ]
  },
  {
   "cell_type": "code",
   "execution_count": null,
   "metadata": {},
   "outputs": [],
   "source": [
    "class Solution:\n",
    "    def longestSubstring(self, s: str, k: int) -> int:\n",
    "        self.res=0\n",
    "        self.divide(s,k)\n",
    "        return self.res\n",
    "    def divide(self,subs,k):\n",
    "        dic={}  #build a dictionary\n",
    "        for i in subs:  #count each alphabet\n",
    "            if i not in dic: \n",
    "                dic[i]=1\n",
    "            else:\n",
    "                dic[i]+=1\n",
    "        exclusive=[] #build a list to store the exclusive alphabet\n",
    "        for i, v in enumerate(subs):   #enumerate:return paired list:index,alphabet\n",
    "            if dic[v]<k:\n",
    "                exclusive.append(i)\n",
    "        if len(exclusive)==0:  #找到的（退出的）条件\n",
    "            self.res=max(self.res,len(subs))\n",
    "            return\n",
    "        \n",
    "        #divide, conquer\n",
    "        first, last = 0, len(subs)-1\n",
    "        for i in exclusive: #考虑first \n",
    "            if i-first<k:#将字段个数小于k的去掉\n",
    "                first=i\n",
    "                continue\n",
    "            else:\n",
    "                temp=subs[first:i]\n",
    "                self.divide(temp,k)\n",
    "                first=i\n",
    "        if last-exclusive[-1]>=k: #考虑last\n",
    "            self.divide(subs[exclusive[-1]+1:last+1],k)\n",
    "            \n",
    "    #T: avg: nlogn"
   ]
  },
  {
   "cell_type": "code",
   "execution_count": 1,
   "metadata": {},
   "outputs": [
    {
     "data": {
      "text/plain": [
       "Counter({'e': 4, 'a': 2, 'd': 1, 'c': 1, 's': 1, 'f': 1})"
      ]
     },
     "execution_count": 1,
     "metadata": {},
     "output_type": "execute_result"
    }
   ],
   "source": [
    "s='eaadeecsef'\n",
    "\n",
    "import collections as col\n",
    "col.Counter(s)"
   ]
  },
  {
   "cell_type": "markdown",
   "metadata": {},
   "source": [
    "### 617(lincode) Maximum Average Subarray II"
   ]
  },
  {
   "cell_type": "markdown",
   "metadata": {},
   "source": [
    "![](img/DC3.png \"23\")"
   ]
  },
  {
   "cell_type": "markdown",
   "metadata": {},
   "source": [
    "![](img/DC2.png \"23\")"
   ]
  },
  {
   "cell_type": "code",
   "execution_count": null,
   "metadata": {},
   "outputs": [],
   "source": [
    "class Solution:\n",
    "    \"\"\"\n",
    "    @param nums: an array with positive and negative numbers\n",
    "    @param k: an integer\n",
    "    @return: the maximum average\n",
    "    \"\"\"\n",
    "    def maxAverage(self, nums, k):\n",
    "        left, right = min(nums), max(nums)\n",
    "        n = len(nums)\n",
    "\n",
    "        #binary search, the key point is how to check condition\n",
    "        while right-left>=1e-6:\n",
    "            mid=left+(right-left)/2\n",
    "            if self.check(mid, nums, k): #lager avgsum no less than k subarray exists\n",
    "                left=mid\n",
    "            else:\n",
    "                right=mid\n",
    "        return left\n",
    "    def check(self, mid, nums, k):\n",
    "        min_presum=0\n",
    "        n= len(nums)+1\n",
    "        pre_sum=[0]*n\n",
    "        \n",
    "        for i in range(1, n):\n",
    "            pre_sum[i]=pre_sum[i-1]+nums[i-1]-mid\n",
    "            \n",
    "            if i>=k and pre_sum[i]-min_presum>=0: return True\n",
    "            if i>=k: \n",
    "                min_presum = min(min_presum, pre_sum[i-k+1])\n",
    "        \n",
    "        return False"
   ]
  },
  {
   "cell_type": "markdown",
   "metadata": {},
   "source": [
    "### 59. Spiral Matrix II"
   ]
  },
  {
   "cell_type": "code",
   "execution_count": null,
   "metadata": {},
   "outputs": [],
   "source": [
    "class Solution:\n",
    "    def generateMatrix(self, n: int) -> List[List[int]]:\n",
    "        if n==0: return []\n",
    "        r1, r2, c1, c2 = 0, n-1, 0, n-1\n",
    "        direct, cnt = 0, 0\n",
    "        res=[[0 for i in range(n)] for j in range(n)]\n",
    "        while True:\n",
    "            if direct==0:\n",
    "                for i in range (c1, c2+1):\n",
    "                    cnt += 1\n",
    "                    res[r1][i]=cnt\n",
    "                r1 +=1\n",
    "            if direct==1:\n",
    "                for i in range(r1, r2+1):\n",
    "                    cnt += 1\n",
    "                    res[i][c2]=cnt\n",
    "                c2 -=1\n",
    "            if direct==2:\n",
    "                for i in range(c2, c1-1, -1):\n",
    "                    cnt+=1\n",
    "                    res[r2][i]=cnt\n",
    "                r2 -= 1\n",
    "            if direct==3:\n",
    "                for i in range(r2, r1-1, -1):\n",
    "                    cnt+=1\n",
    "                    res[i][c1]=cnt\n",
    "                c1 +=1\n",
    "            if cnt==n*n: return res\n",
    "            direct=(direct+1)%4"
   ]
  },
  {
   "cell_type": "code",
   "execution_count": null,
   "metadata": {},
   "outputs": [],
   "source": []
  },
  {
   "cell_type": "code",
   "execution_count": null,
   "metadata": {},
   "outputs": [],
   "source": []
  }
 ],
 "metadata": {
  "kernelspec": {
   "display_name": "Python 3",
   "language": "python",
   "name": "python3"
  },
  "language_info": {
   "codemirror_mode": {
    "name": "ipython",
    "version": 3
   },
   "file_extension": ".py",
   "mimetype": "text/x-python",
   "name": "python",
   "nbconvert_exporter": "python",
   "pygments_lexer": "ipython3",
   "version": "3.6.5"
  }
 },
 "nbformat": 4,
 "nbformat_minor": 2
}
