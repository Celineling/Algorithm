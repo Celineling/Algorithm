{
 "cells": [
  {
   "cell_type": "markdown",
   "metadata": {},
   "source": [
    "### 144 Binary Tree Preorder Traversal"
   ]
  },
  {
   "cell_type": "code",
   "execution_count": null,
   "metadata": {},
   "outputs": [],
   "source": [
    "#Solution 1: divide & conquer\n",
    "class Solution:\n",
    "    def preorderTraversal(self, root: TreeNode) -> List[int]:\n",
    "        if root is None:\n",
    "            return[]\n",
    "        left=self.preorderTraversal(root.left)\n",
    "        right=self.preorderTraversal(root.right)\n",
    "        \n",
    "        return [root.val]+left+right\n",
    "    \n",
    "#36 ms, faster than 84.45% of Python3 "
   ]
  },
  {
   "cell_type": "code",
   "execution_count": null,
   "metadata": {},
   "outputs": [],
   "source": [
    "#solution 2: non-recursive\n",
    "class Solution:\n",
    "    def preorderTraversal(self, root: TreeNode) -> List[int]:\n",
    "        if root is None:\n",
    "            return []\n",
    "        stack=collections.deque()\n",
    "        ans=[]\n",
    "        p=root\n",
    "        \n",
    "        while p is not None or stack:\n",
    "            if p is not None:\n",
    "                ans.append(p.val)\n",
    "                stack.append(p)\n",
    "                p=p.left\n",
    "            else:\n",
    "                p=stack.pop()\n",
    "                p=p.right\n",
    "        return ans\n",
    "#36 ms, faster than 84.45% of Python3 "
   ]
  },
  {
   "cell_type": "markdown",
   "metadata": {},
   "source": [
    "### 530 Minimum Absolute Difference in BST"
   ]
  },
  {
   "cell_type": "code",
   "execution_count": null,
   "metadata": {},
   "outputs": [],
   "source": [
    "#find the min absolute difference between any two nodes\n",
    "#my idea:中序遍历保存所有节点value,再找最小差值\n",
    "#better idea: 在中序遍历的时候，就把最小差值保存下来，\n",
    "#这是需要一个parameter, prev用于保存上一个节点的值（中序递增，当前节点-上一个节点）"
   ]
  },
  {
   "cell_type": "code",
   "execution_count": 2,
   "metadata": {},
   "outputs": [],
   "source": [
    "#use inorder, left-root-right, return the value increasingly.\n",
    "def getMinimumDifference(self, root):\n",
    "    self.res=float('inf')\n",
    "    self.pre=None\n",
    "    def inorder(root):\n",
    "        if root is None: return\n",
    "        inorder(root.left)\n",
    "        if self.pre:\n",
    "            self.res=min(self.res,root.val-self.pre.val)\n",
    "        self.pre=root\n",
    "        inorder(root.right)\n",
    "\n",
    "    inorder(root)\n",
    "    return self.res\n",
    "#68 ms, faster than 72.13% of Python3 "
   ]
  },
  {
   "cell_type": "markdown",
   "metadata": {},
   "source": [
    "### 110 Balanced Binary Tree"
   ]
  },
  {
   "cell_type": "code",
   "execution_count": null,
   "metadata": {},
   "outputs": [],
   "source": [
    "#compare height for each node, use dfs\n",
    "#using divide and conquer, 返回左右子树的深度\n",
    "#The problem for this question is how to return the depth of node"
   ]
  },
  {
   "cell_type": "code",
   "execution_count": null,
   "metadata": {},
   "outputs": [],
   "source": [
    "#solution 1\n",
    "#dfs return depth, isBlanced() check balance\n",
    "def isBalanced(self, root):\n",
    "    if root is None: return True\n",
    "    left=self.dfs(root.left)\n",
    "    right=self.dfs(root.right)\n",
    "    if abs(left-right)<=1: #check balance for each node\n",
    "        return self.isBalanced(root.self) and self.isBalanced(root.right)\n",
    "    else:\n",
    "        return False\n",
    "    \n",
    "def dfs(self,root): #return depth\n",
    "    if root is None:return 0\n",
    "    return max(self.dfs(root.left),self.dfs(root.right))+1\n",
    "#72 ms, faster than 47.19%"
   ]
  },
  {
   "cell_type": "code",
   "execution_count": null,
   "metadata": {},
   "outputs": [],
   "source": [
    "#Solution 2\n",
    "#dfs return the depth and check balance simultaneously, using 2 parameters\n",
    "def isBalance(self,root):\n",
    "    return self.dfs(root)[1]\n",
    "def dfs(self, root):\n",
    "    if root is None: return 0,True #2 parameter, depth,balance checking\n",
    "    #divide\n",
    "    left=self.dfs(root.left)\n",
    "    right=self.dfs(root.right)\n",
    "    #conquer\n",
    "    if left[1] or right[1] or abs(left[0]-right[0])<=1:\n",
    "        return max(left[0], right[0])+1, True\n",
    "    else:\n",
    "        return max(left[0], right[0])+1, False\n",
    "\n",
    "    #64 ms, faster than 67.12% "
   ]
  },
  {
   "cell_type": "code",
   "execution_count": null,
   "metadata": {},
   "outputs": [],
   "source": [
    "#Solution 3\n",
    "#dfs return the depth and check balance simultaneously,using -1 == unbalanced\n",
    "def isBalanced(self,root):\n",
    "    return self.dfs(root) != -1\n",
    "def dfs(self,root):\n",
    "    if root is None: return True\n",
    "    \n",
    "    left=self.dfs(root.left) #divide\n",
    "    if left==-1:             #conquer\n",
    "        return -1\n",
    "    right=self.dfs(root.right)\n",
    "    if right==-1:\n",
    "        return -1\n",
    "    \n",
    "    return max(left,right)+1 if abs(left-right)<=1 else -1\n",
    "#52 ms, faster than 100.00% of Python3"
   ]
  },
  {
   "cell_type": "code",
   "execution_count": null,
   "metadata": {},
   "outputs": [],
   "source": [
    "#idea reference: https://blog.csdn.net/coder_orz/article/details/51335758"
   ]
  },
  {
   "cell_type": "markdown",
   "metadata": {},
   "source": [
    "### 897 Increasing Order Search Tree"
   ]
  },
  {
   "cell_type": "code",
   "execution_count": null,
   "metadata": {},
   "outputs": [],
   "source": [
    "#return an inorder node list\n",
    "#output a binary tree with left node only\n",
    "#problem: how to build a binary tree"
   ]
  },
  {
   "cell_type": "code",
   "execution_count": null,
   "metadata": {},
   "outputs": [],
   "source": [
    "#Solution 1: inorder with non-recursive\n",
    "def increasingBST(self,root):\n",
    "    ls=self.inorder(root)\n",
    "    newtree=cur=TreeNode(ls[0])\n",
    "    for i in ls[1:] :\n",
    "        cur.right=TreeNode(i)\n",
    "        cur=cur.right\n",
    "    return newtree   \n",
    "def inorder(self,root):\n",
    "    if root is None: return None\n",
    "    queue=collections.deque()\n",
    "    ans=[]\n",
    "    p=root\n",
    "    while p is not None or stack:\n",
    "        if p is not None:\n",
    "            stack.append(p)\n",
    "            p=p.left\n",
    "        else:\n",
    "            p=stack.pop()\n",
    "            ans.append(p.val)\n",
    "            p=p.right\n",
    "    return ans\n",
    "#104 ms, faster than 87.66% of Python3"
   ]
  },
  {
   "cell_type": "code",
   "execution_count": null,
   "metadata": {},
   "outputs": [],
   "source": [
    "#Solution 2: inorder with recursive\n",
    "def increasingBST(self,root):\n",
    "    ls=self.inorder(root)\n",
    "    newtree=cur=TreeNode(ls[0])\n",
    "    for i in ls[1:] :\n",
    "        cur.right=TreeNode(i)\n",
    "        cur=cur.right\n",
    "    return newtree \n",
    "    \n",
    "def inorder(self,root):\n",
    "    if root is None: return []\n",
    "    left=self.inorder(root.left)\n",
    "    right=self.inorder(root.right)\n",
    "    return left+[root.val]+right\n",
    "#92 ms, faster than 100.00% of Python3    "
   ]
  },
  {
   "cell_type": "markdown",
   "metadata": {},
   "source": [
    "### 79 Word Search"
   ]
  },
  {
   "cell_type": "code",
   "execution_count": null,
   "metadata": {},
   "outputs": [],
   "source": [
    "#dfs, divide (4 directions) and conquer(compare with word)\n",
    "#Notice: Remember to mark the node visited!"
   ]
  },
  {
   "cell_type": "code",
   "execution_count": null,
   "metadata": {},
   "outputs": [],
   "source": [
    "#Solution 1: 直接，粗暴\n",
    "def exist(self, board: List[List[str]], word: str):\n",
    "    self.r,self.c=len(board),len(board[0])\n",
    "    for y in range(self.r):\n",
    "            for x in range(self.c):\n",
    "                if self.found(board, word, x, y, 0):\n",
    "                    return True\n",
    "    return False\n",
    "    \n",
    "def found(self, board, word, x, y, i):\n",
    "    if i == len(word):\n",
    "        return True\n",
    "    if x < 0 or x >= self.c or y < 0 or y >= self.r:\n",
    "        return False\n",
    "    if board[y][x] != word[i]:\n",
    "        return False\n",
    "    board[y][x] = None\n",
    "    isfound =  self.found(board, word, x + 1, y, i + 1) or self.found(board, word, x, y + 1, i + 1) or self.found(board, word, x - 1, y, i + 1) or self.found(board, word, x, y - 1, i + 1)\n",
    "    board[y][x] = word[i]\n",
    "    return isfound\n",
    "    #268 ms, faster than 58.72% of Python3"
   ]
  },
  {
   "cell_type": "code",
   "execution_count": null,
   "metadata": {},
   "outputs": [],
   "source": [
    "#Optimized code\n",
    "def exist(self, board: List[List[str]], word: str) -> bool:\n",
    "        self.r,self.c=len(board),len(board[0])\n",
    "        if self.r < 1 or self.c < 1 or len(word) < 1:\n",
    "                return False\n",
    "        for x in range(self.r):\n",
    "            for y in range(self.c):\n",
    "                if board[x][y] == word[0] and self.dfs(board, x,y, word, 0):\n",
    "                    return True\n",
    "        return False\n",
    "        \n",
    "    def dfs(self, board, x,y, word, word_index):\n",
    "        if len(word) - 1 == word_index:\n",
    "            return True\n",
    "        board[x][y] = ''\n",
    "        for i,j in [(x,y+1),(x,y-1),(x+1,y),(x-1,y)]: #faster than solution 1(search in recursive)\n",
    "            if 0 <= i < self.r and 0 <= j < self.c and board[i][j] == word[word_index+1] and self.dfs(board, i, j, word, word_index+1):\n",
    "                return True\n",
    "        board[x][y] = word[word_index]\n",
    "        return False\n",
    "    \n",
    "#204 ms, faster than 86.47% of Python3 "
   ]
  },
  {
   "cell_type": "markdown",
   "metadata": {},
   "source": [
    "### 112 Path Sum"
   ]
  },
  {
   "cell_type": "code",
   "execution_count": null,
   "metadata": {},
   "outputs": [],
   "source": [
    "#dfs, any order, check every node and sum value"
   ]
  },
  {
   "cell_type": "code",
   "execution_count": null,
   "metadata": {},
   "outputs": [],
   "source": [
    "#Solution 1: non-recursive, uproot to leaf, \n",
    "def hasPathSum(self, root: TreeNode, sum: int):\n",
    "    stack=[(root,sum)]\n",
    "    while stack:\n",
    "        node, tmp_sum=stack.pop()\n",
    "        if node:\n",
    "            if not node.left and not node.right and node.val==tmp_sum: #leaf\n",
    "                return True\n",
    "            stack.append((node.right,tmp_sum-node.val))\n",
    "            stack.append((node.left,tmp_sum-node.val))\n",
    "    return False\n",
    "#48 ms, faster than 99.73% of Python3"
   ]
  },
  {
   "cell_type": "code",
   "execution_count": null,
   "metadata": {},
   "outputs": [],
   "source": [
    "#Solution 2: recursive\n",
    "def hasPathSum(self, root: TreeNode, sum: int):\n",
    "    if not root: return False\n",
    "    if not root.left and not root.right:\n",
    "        return True if sum==root.val else False\n",
    "    else:\n",
    "        return self.hasPathSum(root.left,sum-root.val) or self.hasPathSum(root.right,sum-root.val)\n",
    "##48 ms, faster than 99.73% of Python3"
   ]
  },
  {
   "cell_type": "code",
   "execution_count": null,
   "metadata": {},
   "outputs": [],
   "source": [
    "#solution 3:recursive with help function\n",
    "def hasPathSum(self, root: TreeNode, sum: int):\n",
    "    return self.dfs(root,sum)\n",
    "def dfs(self, root,givensum):\n",
    "    if root is None: return False\n",
    "    if root.left is None and root.right is None:\n",
    "        return True is givensum==root.val else False\n",
    "    else:\n",
    "        return dfs(root.left,givensum-root.val) or dfs(root.right,givensum-root.val)\n",
    " #48 ms, faster than 99.73%   "
   ]
  },
  {
   "cell_type": "markdown",
   "metadata": {},
   "source": [
    "### 124 Binary Tree Maximum Path Sum"
   ]
  },
  {
   "cell_type": "markdown",
   "metadata": {},
   "source": [
    "what's the path meaning: \n",
    "             must parents -child connections, at least one node,\n",
    "             but no need to go through the root"
   ]
  },
  {
   "cell_type": "markdown",
   "metadata": {},
   "source": [
    "#### Solution1:\n",
    "How to find the maximun path sum: \n",
    "    max(root.left's maximun path, root.right maximun path, \n",
    "        root.left's maximun path + root.right maximun path +root.val)\n",
    "\n",
    "method: recursive and need an extra parameter maxsum (to record the maximun \n",
    "   path sum when visiting each nodes)"
   ]
  },
  {
   "cell_type": "code",
   "execution_count": null,
   "metadata": {},
   "outputs": [],
   "source": [
    "def maxPathSum(self, root: TreeNode) -> int:\n",
    "    self.finalmax=float(\"-inf\")\n",
    "    if root is None: return 0\n",
    "    self.dfs(root)\n",
    "    return self.finalmax\n",
    "def dfs(self, root):\n",
    "    if root is None:return 0\n",
    "    #initialize\n",
    "    maxsum=root.val\n",
    "    leftmax,rightmax=0,0\n",
    "\n",
    "    #divide&conquer\n",
    "    if root.left:\n",
    "        leftmax=self.dfs(root.left)\n",
    "        if leftmax>0:\n",
    "            maxsum += leftmax\n",
    "    if root.right:\n",
    "        rightmax=self.dfs(root.right)\n",
    "        if rightmax>0:\n",
    "            maxsum += rightmax\n",
    "\n",
    "    if maxsum > self.finalmax:\n",
    "        self.finalmax = maxsum  #update the third maximun path sum\n",
    "    return max(root.val+leftmax, root.val+rightmax,root.val)\n",
    "#88 ms, faster than 99.49% of Python3  "
   ]
  },
  {
   "cell_type": "markdown",
   "metadata": {},
   "source": [
    "#### solution 2 optimized, \n",
    "The finalmax is actually get the maxpath of left side or right side the maxpath of left side: root.left+max(the maxpath of root.left's left side, root.left's right side)\n",
    "\n",
    "When any left or right node is negative, set it 0, do not go through"
   ]
  },
  {
   "cell_type": "code",
   "execution_count": null,
   "metadata": {},
   "outputs": [],
   "source": [
    "def maxPathSum(self, root: TreeNode) -> int:\n",
    "    self.finalmax=float(\"-inf\")\n",
    "    self.dfs(root)\n",
    "    return self.finalmax\n",
    "def dfs(self, root):\n",
    "    if root is None:return 0\n",
    "    #divide\n",
    "    left=self.dfs(root.left)\n",
    "    right=self.dfs(root.right)\n",
    "    \n",
    "    #conquer\n",
    "    left=left if left>0 else 0\n",
    "    right=right if right>0 else 0\n",
    "    self.finalmax=max(self.finalmax, root.val + left + right) #optimized updating\n",
    "    \n",
    "    return max(left, right)+root.val\n",
    "#84 ms, faster than 99.96% of Python3  "
   ]
  },
  {
   "cell_type": "code",
   "execution_count": null,
   "metadata": {},
   "outputs": [],
   "source": [
    "#### 主讲的solution is also good!:\n",
    "def maxPathSum(self, root):\n",
    "        ans = self.maxPathSumHelper(root)\n",
    "        return ans[1]\n",
    "        \n",
    "def maxPathSumHelper(self, root):\n",
    "        if not root:\n",
    "            return 0,float('-Inf')\n",
    "        left = self.maxPathSumHelper(root.left)\n",
    "        right = self.maxPathSumHelper(root.right)\n",
    "        single = max(left[0] + root.val, right[0] + root.val , 0) # if negative, exclude it and return 0\n",
    "        maxpath = max(left[1], right[1], left[0] + right[0] + root.val)\n",
    "        return single, maxpath"
   ]
  },
  {
   "cell_type": "markdown",
   "metadata": {},
   "source": [
    "### 98 Validate Binary Search Tree"
   ]
  },
  {
   "cell_type": "code",
   "execution_count": null,
   "metadata": {},
   "outputs": [],
   "source": [
    "#recursive:any order\n",
    "#compare: each root, all root.left in (-inf,root) and all root.right in (root,inf)"
   ]
  },
  {
   "cell_type": "code",
   "execution_count": null,
   "metadata": {},
   "outputs": [],
   "source": [
    "def isValidBST(self, root: TreeNode):\n",
    "    mi,ma=float('-inf'),float('inf')\n",
    "    return self.ValidBST(root, mi, ma)\n",
    "def ValidBST(self, root, min, max):\n",
    "    if root is None: return True\n",
    "    if root.val <= min or root.val >= max:\n",
    "        return False\n",
    "    return self.ValidBST(root.left, min, root.val) and self.ValidBST(root.right, root.val, max)\n",
    "\n",
    "#36 ms, faster than 100.00% of Python3"
   ]
  }
 ],
 "metadata": {
  "kernelspec": {
   "display_name": "Python 3",
   "language": "python",
   "name": "python3"
  },
  "language_info": {
   "codemirror_mode": {
    "name": "ipython",
    "version": 3
   },
   "file_extension": ".py",
   "mimetype": "text/x-python",
   "name": "python",
   "nbconvert_exporter": "python",
   "pygments_lexer": "ipython3",
   "version": "3.6.5"
  }
 },
 "nbformat": 4,
 "nbformat_minor": 2
}
