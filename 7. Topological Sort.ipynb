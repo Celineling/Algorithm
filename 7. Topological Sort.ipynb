{
 "cells": [
  {
   "cell_type": "markdown",
   "metadata": {},
   "source": [
    "## specific examples for topology sort in python"
   ]
  },
  {
   "cell_type": "code",
   "execution_count": 1,
   "metadata": {},
   "outputs": [
    {
     "data": {
      "text/plain": [
       "'\\na ---> d ---> e <--- c\\n       ^\\n       |\\n       b\\n'"
      ]
     },
     "execution_count": 1,
     "metadata": {},
     "output_type": "execute_result"
    }
   ],
   "source": [
    "\"\"\"\n",
    "a ---> d ---> e <--- c\n",
    "       ^\n",
    "       |\n",
    "       b\n",
    "\"\"\""
   ]
  },
  {
   "cell_type": "code",
   "execution_count": 2,
   "metadata": {},
   "outputs": [],
   "source": [
    "from collections import defaultdict"
   ]
  },
  {
   "cell_type": "code",
   "execution_count": 3,
   "metadata": {},
   "outputs": [],
   "source": [
    "#store edge information in adjacency list\n",
    "ad_list=defaultdict() \n",
    "ad_list['a'] = ['d']\n",
    "ad_list['b'] = ['d']\n",
    "ad_list['c'] = ['e']\n",
    "ad_list['d'] = ['e']\n",
    "ad_list['e'] = []\n",
    "\n",
    "#store visited vertex information in visited list\n",
    "visited=defaultdict()\n",
    "visited['a'] = False\n",
    "visited['b'] = False\n",
    "visited['c'] = False\n",
    "visited['d'] = False\n",
    "visited['e'] = False"
   ]
  },
  {
   "cell_type": "code",
   "execution_count": 4,
   "metadata": {},
   "outputs": [],
   "source": [
    "#use stack to store top-ordering\n",
    "ordering_stack=[]"
   ]
  },
  {
   "cell_type": "markdown",
   "metadata": {},
   "source": [
    "once visit vertex, change visited value to True so we don't revisit it again.\n",
    "recursively run topology sort to the neighbors in adjacency list.\n",
    "once all the neighbors are visited, put the current vertex in the ordering_stack"
   ]
  },
  {
   "cell_type": "code",
   "execution_count": 5,
   "metadata": {},
   "outputs": [],
   "source": [
    "def top_sort(vertex): #dfs\n",
    "    if not visited[vertex]:\n",
    "        visited[vertex]=True\n",
    "        for neighbor in ad_list[vertex]:\n",
    "            top_sort(neighbor)\n",
    "        ordering_stack.insert(0, vertex)"
   ]
  },
  {
   "cell_type": "code",
   "execution_count": 6,
   "metadata": {},
   "outputs": [],
   "source": [
    "#iterate and run top_sort from the first vertex to the last\n",
    "for vertex in visited:\n",
    "    top_sort(vertex)"
   ]
  },
  {
   "cell_type": "code",
   "execution_count": 7,
   "metadata": {},
   "outputs": [
    {
     "data": {
      "text/plain": [
       "['c', 'b', 'a', 'd', 'e']"
      ]
     },
     "execution_count": 7,
     "metadata": {},
     "output_type": "execute_result"
    }
   ],
   "source": [
    "ordering_stack"
   ]
  },
  {
   "cell_type": "code",
   "execution_count": 8,
   "metadata": {},
   "outputs": [],
   "source": [
    "#T:O(V+E) S:2 dictionaries with length V, 1 list with length V"
   ]
  },
  {
   "cell_type": "markdown",
   "metadata": {},
   "source": [
    "### 207. Course Schedule"
   ]
  },
  {
   "cell_type": "code",
   "execution_count": null,
   "metadata": {},
   "outputs": [],
   "source": [
    "class Solution:\n",
    "    def canFinish(self, numCourses: int, prerequisites: List[List[int]]) -> bool:\n",
    "        visit = [0 for i in range(numCourses)]\n",
    "        graph = collections.defaultdict(list) #or [[] for i in range(numCourses)]\n",
    "        for x, y in prerequisites: #build graph using adjacency list\n",
    "            graph[x].append(y)\n",
    "        \n",
    "        for v in range(numCourses):\n",
    "            if not self.dfs(graph,visit, v):\n",
    "                return False\n",
    "        return True\n",
    "        \n",
    "    #0 = unknown, -1=visiting, 1=visited\n",
    "    def dfs(self, graph, visit, v):\n",
    "        visit[v]= -1  #visiting node v\n",
    "\n",
    "        #traversing v's neighbors\n",
    "        for w in graph[v]: \n",
    "            #check cycle\n",
    "            if visit[w] == -1: return False #the status of node w is visiting(not stop), cycle exists\n",
    "            \n",
    "            if visit[w] == 1: continue #node w is successfully visited, continue visiting its neighbors\n",
    "            #check callback condition(剪枝)\n",
    "            if not self.dfs(graph, visit, w): return False #traversing w's neighbors, cycle found, call back\n",
    "        #at the end of for loop, node has 0 indegree\n",
    "        \n",
    "        visit[v] = 1 #v is successfully visited\n",
    "        return True\n",
    "\n",
    "        \n",
    "    #T: O(V+E), v is numCourses,E is the len(prerequisites) S: 1 dictionary with length numCourses, 1 list required"
   ]
  },
  {
   "cell_type": "markdown",
   "metadata": {},
   "source": [
    "### 210. Course Schedule II\n",
    "#### output the top-ordering"
   ]
  },
  {
   "cell_type": "code",
   "execution_count": null,
   "metadata": {},
   "outputs": [],
   "source": [
    "class Solution:\n",
    "    def findOrder(self, numCourses: int, prerequisites: List[List[int]]) -> List[int]:\n",
    "        #store edge information\n",
    "        graph = collections.defaultdict(list)\n",
    "        for u,v in prerequisites:\n",
    "            graph[u].append(v)\n",
    "        \n",
    "        #store visited vertex information\n",
    "        visited=[0 for i in range(numCourses)]\n",
    "        \n",
    "        #store top-ordering\n",
    "        ordering=[]\n",
    "        \n",
    "        for i in range(numCourses):\n",
    "            if not self.dfs(i, visited,ordering, graph):\n",
    "                return []\n",
    "        return ordering\n",
    "    \n",
    "    #0 = unknown, -1 = visiting, 1 = visited\n",
    "    def dfs(self, i, visited, ordering, graph):\n",
    "        #check node i if has cycle\n",
    "        if visited[i]==-1: return False #visiting  \n",
    "        if visited[i]== 1: return True #visited\n",
    "        visited[i] = -1 #turn 0 into visiting, then check its neighbors\n",
    "        for neighbor in graph[i]:\n",
    "            if not self.dfs(neighbor, visited, ordering, graph):\n",
    "                return False\n",
    "        #node in the end of for loop has 0 indegree\n",
    "        \n",
    "        visited[i]=1\n",
    "        ordering.append(i)\n",
    "        return True\n",
    "   #T: O(V+E) S: 1 dictionary, 2 lists required     "
   ]
  },
  {
   "cell_type": "code",
   "execution_count": null,
   "metadata": {},
   "outputs": [],
   "source": [
    "#try bfs:https://blog.csdn.net/XX_123_1_RJ/article/details/84845711"
   ]
  },
  {
   "cell_type": "markdown",
   "metadata": {},
   "source": [
    "### 605. Sequence Reconstruction (lintcode)"
   ]
  },
  {
   "cell_type": "code",
   "execution_count": null,
   "metadata": {},
   "outputs": [],
   "source": [
    "'''\n",
    "1.construct the dict: graph and indegrees, by finding each vaule's children and number of parents\n",
    "2. do top-sort on the graph:\n",
    "  #during each step, check whether there is only one option to select the node, if not, return False directly\n",
    "  #then push the number with no parent into the answer, and delete the number from the graph.\n",
    "  #If the graph from the seqs can generate only one common supersequence, \n",
    "  #then every time there is only one node with no parent can be found.\n",
    "3.After getting the top-ordering list, check if its length is the same with the number of distinct values and if it's the same as org \n",
    "\n",
    "'''"
   ]
  },
  {
   "cell_type": "code",
   "execution_count": null,
   "metadata": {},
   "outputs": [],
   "source": [
    "class Solution:\n",
    "    \"\"\"\n",
    "    @param org: a permutation of the integers from 1 to n\n",
    "    @param seqs: a list of sequences\n",
    "    @return: true if it can be reconstructed only one or false\n",
    "    \"\"\"\n",
    "    def sequenceReconstruction(self, org, seqs):\n",
    "        values = {x for seq in seqs for x in seq}\n",
    "        graph = {x: [] for x in values} #build a adjancency list, id is values, list is neighbors for each id \n",
    "        indegrees = {x: 0 for x in values} #store indegrees for each value\n",
    "        for seq in seqs:\n",
    "            for i in range(len(seq) - 1):\n",
    "                s = seq[i]\n",
    "                t = seq[i+1]\n",
    "                graph[s].append(t)\n",
    "                indegrees[t] += 1\n",
    "        \n",
    "        queue = collections.deque() #store nodes with only 0 indegree / no parent\n",
    "        for node, count in indegrees.items(): #dict.items()\n",
    "            if count == 0: #no parent \n",
    "                queue.append(node)\n",
    "        \n",
    "        res = []\n",
    "        \n",
    "        #do top-sorting\n",
    "        while queue:\n",
    "            if len(queue) != 1: #true seq should have only 1 node with 0 indegree\n",
    "                return False\n",
    "           \n",
    "            #push the queue into the answer\n",
    "            source = queue.popleft() \n",
    "            res.append(source)  \n",
    "            \n",
    "            for neighbor in graph[source]:\n",
    "                indegrees[neighbor] -= 1\n",
    "                if indegrees[neighbor] == 0: # if 0, the neighbor node only has 1 indegree\n",
    "                    queue.append(neighbor)   #store nodes with only 1 indegree\n",
    "        \n",
    "        return len(res) == len(values) and res == org #the same length and the same ordering\n",
    "    \n",
    "    #T: average: O(V+E), S: 2 dicts, 2 lists"
   ]
  },
  {
   "cell_type": "code",
   "execution_count": 22,
   "metadata": {},
   "outputs": [],
   "source": [
    "#methods to build required dict\n",
    "seqs=[[1,2],[1,3],[2,3]]\n",
    "values = {x for seq in seqs for x in seq}\n",
    "graph = {x: [] for x in values}\n",
    "indegrees = {x: 0 for x in values}\n",
    "for seq in seqs:\n",
    "            for i in range(len(seq) - 1):\n",
    "                s = seq[i]\n",
    "                t = seq[i+1]\n",
    "                graph[s].append(t)\n",
    "                indegrees[t] += 1"
   ]
  },
  {
   "cell_type": "code",
   "execution_count": 25,
   "metadata": {},
   "outputs": [
    {
     "data": {
      "text/plain": [
       "{1: [2, 3], 2: [3], 3: []}"
      ]
     },
     "execution_count": 25,
     "metadata": {},
     "output_type": "execute_result"
    }
   ],
   "source": [
    "graph"
   ]
  },
  {
   "cell_type": "code",
   "execution_count": 26,
   "metadata": {},
   "outputs": [
    {
     "data": {
      "text/plain": [
       "{1: 0, 2: 1, 3: 2}"
      ]
     },
     "execution_count": 26,
     "metadata": {},
     "output_type": "execute_result"
    }
   ],
   "source": [
    "indegrees"
   ]
  }
 ],
 "metadata": {
  "kernelspec": {
   "display_name": "Python 3",
   "language": "python",
   "name": "python3"
  },
  "language_info": {
   "codemirror_mode": {
    "name": "ipython",
    "version": 3
   },
   "file_extension": ".py",
   "mimetype": "text/x-python",
   "name": "python",
   "nbconvert_exporter": "python",
   "pygments_lexer": "ipython3",
   "version": "3.6.5"
  }
 },
 "nbformat": 4,
 "nbformat_minor": 2
}
