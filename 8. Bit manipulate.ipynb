{
 "cells": [
  {
   "cell_type": "code",
   "execution_count": null,
   "metadata": {},
   "outputs": [],
   "source": [
    "# & And(same 1 is 1, others are 0), \n",
    "# | OR same 0 is 0, others are 1,\n",
    "#^ XOR same is 0, otherwise is 1,  \n",
    "#~ inverse,  << all left shift, >> all right shift \n",
    "##The bitwise inversion of x is defined as -(x+1): ~x = -(x+1)"
   ]
  },
  {
   "cell_type": "markdown",
   "metadata": {},
   "source": [
    "![](img/expression.png)"
   ]
  },
  {
   "cell_type": "markdown",
   "metadata": {},
   "source": [
    "### 338. Counting bits"
   ]
  },
  {
   "cell_type": "code",
   "execution_count": null,
   "metadata": {},
   "outputs": [],
   "source": [
    "#methods to count number of 1"
   ]
  },
  {
   "cell_type": "code",
   "execution_count": null,
   "metadata": {},
   "outputs": [],
   "source": [
    "#最initial的solution：\n",
    "class Solution:\n",
    "    def countBits(self, num: int) -> List[int]:\n",
    "        num_list=[]\n",
    "        for x in range(num+1):\n",
    "            num_1=0\n",
    "            while x:   #key bit manipulate\n",
    "                num_1 += x&1\n",
    "                x>>=1\n",
    "            num_list.append(num_1)\n",
    "        return num_list  \n",
    "    \n",
    "    #T: O(1) per bit, in total: O((num+1)*n), where n is the number of bits in each integer\n",
    "    #S: a list with length num+1"
   ]
  },
  {
   "cell_type": "code",
   "execution_count": null,
   "metadata": {},
   "outputs": [],
   "source": [
    "#try better solution with T: O(n)\n",
    "class Solution:\n",
    "    def countBits(self, num: int) -> List[int]:\n",
    "        num_list=[0 for i in range(num+1)]\n",
    "        for x in range(1,num+1):\n",
    "            bit = x&1\n",
    "            if bit==1:\n",
    "                num_list[x] = num_list[x-1]+1\n",
    "            else:\n",
    "                num_list[x]=num_list[x>>1]\n",
    "               \n",
    "        return num_list \n",
    "    \n",
    "    #tips: use DP to get the number of 1's"
   ]
  },
  {
   "cell_type": "markdown",
   "metadata": {},
   "source": [
    "### 78 Subsets\n",
    "#### firstly using dfs"
   ]
  },
  {
   "cell_type": "code",
   "execution_count": null,
   "metadata": {},
   "outputs": [],
   "source": [
    "class Solution:\n",
    "    def subsets(self, nums: List[int]) -> List[List[int]]:\n",
    "        res=[]\n",
    "        nums.sort()\n",
    "        \n",
    "        def dfs(nums, index, path, res):\n",
    "            l = len(nums)\n",
    "            res.append(path)\n",
    "            for i in range(index, l):\n",
    "                dfs(nums, i+1, path+[nums[i]], res)\n",
    "\n",
    "        dfs(nums, 0, [], res)\n",
    "        return res\n",
    "   #T: O(2^n)     "
   ]
  },
  {
   "cell_type": "code",
   "execution_count": null,
   "metadata": {},
   "outputs": [],
   "source": [
    "#using bit manipulate:if count&(1<<j)>0, then nums[j]"
   ]
  },
  {
   "cell_type": "code",
   "execution_count": null,
   "metadata": {},
   "outputs": [],
   "source": [
    "class Solution:\n",
    "    def subsets(self, nums: List[int]) -> List[List[int]]:\n",
    "        res=[]\n",
    "        l=len(nums)\n",
    "        for count in range(2**l):\n",
    "            temp=[]\n",
    "            for j in range(l):\n",
    "                if count&(1<<j) > 0:  #Key bit expression\n",
    "                    temp.append(nums[j])\n",
    "            res.append(temp)\n",
    "        return res\n",
    "   #T: O(2^n)     "
   ]
  },
  {
   "cell_type": "markdown",
   "metadata": {},
   "source": [
    "### 136. Single Number\n",
    "#### find single element, 2 repeated"
   ]
  },
  {
   "cell_type": "code",
   "execution_count": null,
   "metadata": {},
   "outputs": [],
   "source": [
    "#need a linear runtime complexity, and without extra memory---bit manipulate"
   ]
  },
  {
   "cell_type": "code",
   "execution_count": null,
   "metadata": {},
   "outputs": [],
   "source": [
    "#XOR, x^x=0, x^0=x, XOR满足交换律"
   ]
  },
  {
   "cell_type": "code",
   "execution_count": null,
   "metadata": {},
   "outputs": [],
   "source": [
    "class Solution:\n",
    "    def singleNumber(self, nums: List[int]) -> int:\n",
    "        res = 0\n",
    "        for x in nums:\n",
    "            res ^=x  \n",
    "        return res\n",
    "   \n",
    "    #T: O(n), S:O(1) (res)\n",
    "    #res=res^x, if appear twice, XOR will cancel out this two numbers,\n",
    "    #            and only leave the num which appears once."
   ]
  },
  {
   "cell_type": "markdown",
   "metadata": {},
   "source": [
    "![](img/BM1.png)"
   ]
  },
  {
   "cell_type": "markdown",
   "metadata": {},
   "source": [
    "### 137. Single Number II\n",
    "#### find single element, 3 repeated"
   ]
  },
  {
   "cell_type": "code",
   "execution_count": null,
   "metadata": {},
   "outputs": [],
   "source": [
    "#need a linear runtime complexity, and without extra memory---bit manipulate"
   ]
  },
  {
   "cell_type": "code",
   "execution_count": null,
   "metadata": {},
   "outputs": [],
   "source": [
    "class Solution:\n",
    "    def singleNumber(self, nums: List[int]) -> int:\n",
    "        res=0\n",
    "        for i in range(32):\n",
    "            sum=0\n",
    "            for num in nums: #计算所有nums在32位中每一位bit出现bit 1的总个数 \n",
    "                sum += (num>>i)&1\n",
    "            rem = sum%3\n",
    "            \n",
    "            #还原回原数字\n",
    "            if i == 31 and rem: #if there's negative num\n",
    "                res -= (1 << 31) #res-2**31\n",
    "            else:\n",
    "                res |= (rem << i)\n",
    "        return res\n",
    "            \n",
    "            \n",
    "    #104 ms, faster than 14.94%"
   ]
  },
  {
   "cell_type": "code",
   "execution_count": null,
   "metadata": {},
   "outputs": [],
   "source": [
    "class Solution:\n",
    "    def singleNumber(self, nums: List[int]) -> int:\n",
    "        ones, twos = 0, 0\n",
    "        for x in nums:\n",
    "            ones = (ones^x) & (~twos)\n",
    "            twos = (twos^x) & (~ones)\n",
    "        return ones\n",
    "    #T: O(n), S: without extra space\n",
    "    #36 ms, faster than 94.86%\n",
    "    #refferal: https://blog.csdn.net/karen0310/article/details/78226261\n",
    "    \n",
    "    #ones, twos are counting the appearence of 1 in each bit\n",
    "    #what for do?\n",
    "    ##(a) ones^x: 历史出现一次的1和x中各位上的1异或^, 同时出现0否则是1存入ones\n",
    "    ##(b) &~twos: 出现三次1后清0， twos表示历史出现两次1的记录，经过(a)得到出现\n",
    "              ## 一次1，和历史出现两次1进行 &~ ， 将出现三次1的情况清0\n",
    "        \n",
    "    ##(c) twos^x: 历史出现两次的1和x中各位上的1异或^， 同时出现（表示出现了3次）则为0，否则存入twos\n",
    "    ##(d) &~ones: 经过（c）步得到出现两次1， 和历史出现一次1进行 &~ ， 将出现三次1的情况清0\n",
    "    \n",
    "    ##after for loop, return ones which is the num appearing once\n",
    "    \n",
    "    #summary:x&~y 作用：将x和y中同时为1的位变为0； ^ 这里用的目的和136题中相似（同时出现变成0）"
   ]
  },
  {
   "cell_type": "markdown",
   "metadata": {},
   "source": [
    "### 191 Number of bits\n",
    "#### count number of 1"
   ]
  },
  {
   "cell_type": "code",
   "execution_count": null,
   "metadata": {},
   "outputs": [],
   "source": [
    "#my initial solution\n",
    "class Solution(object):\n",
    "    def hammingWeight(self, n):\n",
    "        \"\"\"\n",
    "        :type n: int\n",
    "        :rtype: int\n",
    "        \"\"\"\n",
    "        count=0\n",
    "        for i in range(32):\n",
    "            count += (n>>i)&1\n",
    "\n",
    "        return count\n",
    "    #T:O(1), 但是需要遍历32次"
   ]
  },
  {
   "cell_type": "code",
   "execution_count": null,
   "metadata": {},
   "outputs": [],
   "source": [
    "class Solution(object):\n",
    "    def hammingWeight(self, n): # n is a binary unsigned integer\n",
    "        \"\"\"\n",
    "        :type n: int\n",
    "        :rtype: int\n",
    "        \"\"\"\n",
    "        count=0\n",
    "        while n:\n",
    "            count += n&1\n",
    "            n >>= 1\n",
    "        return count\n",
    "    #只需要遍历n的长度次"
   ]
  },
  {
   "cell_type": "markdown",
   "metadata": {},
   "source": [
    "### 260. Single Number III\n",
    "#### two eles which appear only once, others are twice.  should use linear runtime, and constant space complexity"
   ]
  },
  {
   "cell_type": "code",
   "execution_count": null,
   "metadata": {},
   "outputs": [],
   "source": [
    "class Solution:\n",
    "    def singleNumber(self, nums: List[int]) -> List[int]:\n",
    "        tmp = 0\n",
    "        A, B = 0, 0 #A, B are the only numbers which appears once\n",
    "        #第一次异或^得到 A^B\n",
    "        for x in nums:\n",
    "            tmp ^= x\n",
    "        \n",
    "        #since A, B不同，tmp中至少存在一个位是1，找出右边最先出现1的位置,标记为mask\n",
    "        #在mask位置，两个不同的数字一个位是1一个是0\n",
    "        mask=1\n",
    "        while tmp&mask == 0:\n",
    "            mask <<= 1\n",
    "        \n",
    "        #与mask &， then第二次异或^, 找出两个不同的数\n",
    "        for x in nums:\n",
    "            if x&mask:\n",
    "                A ^= x\n",
    "            else:\n",
    "                B ^= x\n",
    "        return [A, B]\n",
    "#36 ms, faster than 96.37% of Python3 \n",
    "\n",
    "#why the second XOR can find A, B\n",
    "#因为除了A,B，其他元素都出现两次，两个相同的数字&mask后结果相同，进入XOR之后，\n",
    "#被消掉，只剩下那个不同的"
   ]
  },
  {
   "cell_type": "markdown",
   "metadata": {},
   "source": [
    "### 201 Bitwise AND of Numbers Range"
   ]
  },
  {
   "cell_type": "code",
   "execution_count": null,
   "metadata": {},
   "outputs": [],
   "source": [
    "#my initial solution\n",
    "class Solution:\n",
    "    def rangeBitwiseAnd(self, m: int, n: int) -> int:\n",
    "        res=m\n",
    "        while m<n:\n",
    "            m +=1\n",
    "            res &=m\n",
    "            \n",
    "        return res\n",
    "    #Time Limited Exceeded"
   ]
  },
  {
   "cell_type": "code",
   "execution_count": null,
   "metadata": {},
   "outputs": [],
   "source": [
    "#机智！\n",
    "class Solution:\n",
    "    def rangeBitwiseAnd(self, m: int, n: int) -> int:\n",
    "        i=0\n",
    "        while m != n:\n",
    "            m >>= 1\n",
    "            n >>= 1\n",
    "            i += 1\n",
    "        return  m << i\n",
    "    \n",
    "    \n",
    "#48 ms, faster than 99.46%"
   ]
  },
  {
   "cell_type": "markdown",
   "metadata": {},
   "source": [
    "![](img/BM2.png)"
   ]
  }
 ],
 "metadata": {
  "kernelspec": {
   "display_name": "Python 3",
   "language": "python",
   "name": "python3"
  },
  "language_info": {
   "codemirror_mode": {
    "name": "ipython",
    "version": 3
   },
   "file_extension": ".py",
   "mimetype": "text/x-python",
   "name": "python",
   "nbconvert_exporter": "python",
   "pygments_lexer": "ipython3",
   "version": "3.6.5"
  }
 },
 "nbformat": 4,
 "nbformat_minor": 2
}
