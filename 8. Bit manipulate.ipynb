{
 "cells": [
  {
   "cell_type": "code",
   "execution_count": null,
   "metadata": {},
   "outputs": [],
   "source": [
    "# & And(same 1 is 1, others are 0), \n",
    "# | OR same 0 is 0, others are 1,\n",
    "#^ XOR same is 0, otherwise is 1,  \n",
    "#~ inverse,  << all left shift, >> all right shift \n",
    "##The bitwise inversion of x is defined as -(x+1): ~x = -(x+1)"
   ]
  },
  {
   "cell_type": "markdown",
   "metadata": {},
   "source": [
    "![](img/expression.png \"23\")"
   ]
  },
  {
   "cell_type": "markdown",
   "metadata": {},
   "source": [
    "### 338. Counting bits"
   ]
  },
  {
   "cell_type": "code",
   "execution_count": null,
   "metadata": {},
   "outputs": [],
   "source": [
    "#methods to count number of 1"
   ]
  },
  {
   "cell_type": "code",
   "execution_count": null,
   "metadata": {},
   "outputs": [],
   "source": [
    "#最initial的solution：\n",
    "class Solution:\n",
    "    def countBits(self, num: int) -> List[int]:\n",
    "        num_list=[]\n",
    "        for x in range(num+1):\n",
    "            num_1=0\n",
    "            while x:\n",
    "                num_1 += x&1\n",
    "                x>>=1\n",
    "            num_list.append(num_1)\n",
    "        return num_list  \n",
    "    \n",
    "    #T: O(1) per bit, in total: O((num+1)*n), where n is the number of bits in each integer\n",
    "    #S: a list with length num+1"
   ]
  },
  {
   "cell_type": "code",
   "execution_count": null,
   "metadata": {},
   "outputs": [],
   "source": [
    "#try better solution with T: O(n)\n",
    "class Solution:\n",
    "    def countBits(self, num: int) -> List[int]:\n",
    "        num_list=[0 for i in range(num+1)]\n",
    "        for x in range(1,num+1):\n",
    "            bit = x&1\n",
    "            if bit==1:\n",
    "                num_list[x] = num_list[x-1]+1\n",
    "            else:\n",
    "                num_list[x]=num_list[x>>1]\n",
    "               \n",
    "        return num_list \n",
    "    \n",
    "    #tips: use DP to get the number of 1's"
   ]
  },
  {
   "cell_type": "markdown",
   "metadata": {},
   "source": [
    "### 78 Subsets\n",
    "#### firstly using dfs"
   ]
  },
  {
   "cell_type": "code",
   "execution_count": null,
   "metadata": {},
   "outputs": [],
   "source": [
    "class Solution:\n",
    "    def subsets(self, nums: List[int]) -> List[List[int]]:\n",
    "        res=[]\n",
    "        nums.sort()\n",
    "        \n",
    "        def dfs(nums, index, path, res):\n",
    "            l = len(nums)\n",
    "            res.append(path)\n",
    "            for i in range(index, l):\n",
    "                dfs(nums, i+1, path+[nums[i]], res)\n",
    "\n",
    "        dfs(nums, 0, [], res)\n",
    "        return res\n",
    "   #T: O(2^n)     "
   ]
  },
  {
   "cell_type": "code",
   "execution_count": null,
   "metadata": {},
   "outputs": [],
   "source": [
    "#using bit manipulate:if count&(1<<j)>0, then nums[j]"
   ]
  },
  {
   "cell_type": "code",
   "execution_count": null,
   "metadata": {},
   "outputs": [],
   "source": [
    "class Solution:\n",
    "    def subsets(self, nums: List[int]) -> List[List[int]]:\n",
    "        res=[]\n",
    "        l=len(nums)\n",
    "        for count in range(2**l):\n",
    "            temp=[]\n",
    "            for j in range(l):\n",
    "                if count&(1<<j) > 0:  #Key bit expression\n",
    "                    temp.append(nums[j])\n",
    "            res.append(temp)\n",
    "        return res\n",
    "   #T: O(2^n)     "
   ]
  },
  {
   "cell_type": "markdown",
   "metadata": {},
   "source": [
    "### 136. Single Number\n",
    "#### find single element, 2 repeated"
   ]
  },
  {
   "cell_type": "code",
   "execution_count": null,
   "metadata": {},
   "outputs": [],
   "source": [
    "#need a linear runtime complexity, and without extra memory---bit manipulate"
   ]
  },
  {
   "cell_type": "code",
   "execution_count": null,
   "metadata": {},
   "outputs": [],
   "source": [
    "#XOR, x^x=0, x^0=x"
   ]
  },
  {
   "cell_type": "code",
   "execution_count": null,
   "metadata": {},
   "outputs": [],
   "source": [
    "class Solution:\n",
    "    def singleNumber(self, nums: List[int]) -> int:\n",
    "        res = 0\n",
    "        for x in nums:\n",
    "            res ^=x  \n",
    "        return res\n",
    "   \n",
    "    #T: O(n), S:O(1) (res)\n",
    "    #res=res^x, if appear twice, XOR will cancel out this two numbers,\n",
    "    #            and only leave the num which appears once."
   ]
  },
  {
   "cell_type": "markdown",
   "metadata": {},
   "source": [
    "### 137. Single Number II\n",
    "#### find single element, 3 repeated"
   ]
  },
  {
   "cell_type": "code",
   "execution_count": null,
   "metadata": {},
   "outputs": [],
   "source": [
    "#need a linear runtime complexity, and without extra memory---bit manipulate"
   ]
  },
  {
   "cell_type": "code",
   "execution_count": null,
   "metadata": {},
   "outputs": [],
   "source": [
    "class Solution:\n",
    "    def singleNumber(self, nums: List[int]) -> int:\n",
    "        res=0\n",
    "        for i in range(32):\n",
    "            count=0\n",
    "            for n in nums:\n",
    "                count += (n>>i)&1  #key bit expression\n",
    "            rem = count%3\n",
    "            if i == 31 and rem:\n",
    "                res -= 1 << 31\n",
    "            else:\n",
    "                res |= rem << i\n",
    "        return res\n",
    "            \n",
    "            \n",
    "    #104 ms, faster than 14.94%"
   ]
  },
  {
   "cell_type": "code",
   "execution_count": null,
   "metadata": {},
   "outputs": [],
   "source": [
    "class Solution:\n",
    "    def singleNumber(self, nums: List[int]) -> int:\n",
    "        ones, twos = 0, 0\n",
    "        for x in nums:\n",
    "            ones = ones^x & (~twos)\n",
    "            twos = twos^x & (~ones)\n",
    "        return ones\n",
    "    #T: O(n), S: without extra space\n",
    "    #36 ms, faster than 94.86%\n",
    "    #refferal: https://blog.csdn.net/karen0310/article/details/78226261\n",
    "    #https://www.cnblogs.com/grandyang/p/4263927.html"
   ]
  },
  {
   "cell_type": "markdown",
   "metadata": {},
   "source": [
    "### 260. Single Number III\n",
    "#### two eles which appear only once, others are twice.  should use linear runtime, and constant space complexity"
   ]
  },
  {
   "cell_type": "code",
   "execution_count": null,
   "metadata": {},
   "outputs": [],
   "source": [
    "class Solution:\n",
    "    def singleNumber(self, nums: List[int]) -> List[int]:\n",
    "        tmp = 0\n",
    "        for x in nums:\n",
    "            tmp ^= x\n",
    "            \n",
    "        #looking for the rightmost '1' bit\n",
    "        i=0\n",
    "        while tmp&1 == 0:\n",
    "            tmp>>=1\n",
    "            i += 1\n",
    "        tmp = 1<<i\n",
    "        \n",
    "        first, second = 0, 0\n",
    "        for x in nums:\n",
    "            if x&tmp:\n",
    "                first ^= x\n",
    "            else:\n",
    "                second ^= x\n",
    "        return [first, second]\n",
    "#36 ms, faster than 96.37% of Python3 "
   ]
  },
  {
   "cell_type": "markdown",
   "metadata": {},
   "source": [
    "### 201 Bitwise AND of Numbers Range"
   ]
  },
  {
   "cell_type": "code",
   "execution_count": null,
   "metadata": {},
   "outputs": [],
   "source": [
    "class Solution:\n",
    "    def rangeBitwiseAnd(self, m: int, n: int) -> int:\n",
    "        i=0\n",
    "        while m != n:\n",
    "            m >>= 1\n",
    "            n >>= 1\n",
    "            i += 1\n",
    "        return  m << i\n",
    "    \n",
    "    \n",
    "#48 ms, faster than 99.46%\n",
    "#referal: https://blog.csdn.net/fuxuemingzhu/article/details/79495633"
   ]
  }
 ],
 "metadata": {
  "kernelspec": {
   "display_name": "Python 3",
   "language": "python",
   "name": "python3"
  },
  "language_info": {
   "codemirror_mode": {
    "name": "ipython",
    "version": 3
   },
   "file_extension": ".py",
   "mimetype": "text/x-python",
   "name": "python",
   "nbconvert_exporter": "python",
   "pygments_lexer": "ipython3",
   "version": "3.6.5"
  }
 },
 "nbformat": 4,
 "nbformat_minor": 2
}
