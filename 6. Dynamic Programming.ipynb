{
 "cells": [
  {
   "cell_type": "code",
   "execution_count": null,
   "metadata": {},
   "outputs": [],
   "source": [
    "#DP：当前最优 = 前一个状态最优 + 1, \n",
    "#每个recursive都可以用DP+memorization替换。"
   ]
  },
  {
   "cell_type": "markdown",
   "metadata": {},
   "source": [
    "### 300. Longest Increasing Subsequence"
   ]
  },
  {
   "cell_type": "code",
   "execution_count": null,
   "metadata": {},
   "outputs": [],
   "source": [
    "class Solution:\n",
    "    def lengthOfLIS(self, nums: List[int]) -> int:\n",
    "        if not nums:\n",
    "             return 0\n",
    "        \n",
    "        #initial states\n",
    "        dp=[1]*len(nums) \n",
    "        #dp[i] is the longest length of increasing subsuq of the list dp[from 0 to i]\n",
    "        \n",
    "        #状态转移方程 or functional equation：dp[x]=max(dp[x],dp[y]+1)\n",
    "        for j in range(1, len(nums)):\n",
    "            for i in range(j):\n",
    "                if (nums[j]>nums[i]): \n",
    "                    dp[j]=max(dp[j], dp[i]+1)\n",
    "        return max(dp)\n",
    "    #O(n^2)"
   ]
  },
  {
   "cell_type": "code",
   "execution_count": null,
   "metadata": {},
   "outputs": [],
   "source": [
    "#nlogn, Binary search on ans\n",
    "class Solution:\n",
    "    def lengthOfLIS(self, nums: List[int]) -> int:\n",
    "        l=len(nums)\n",
    "        ans=[]\n",
    "        \n",
    "        #traverse on nums, and binary search on ans\n",
    "        for x in range(l):\n",
    "            low=0\n",
    "            high=len(ans)-1\n",
    "            while low<=high:\n",
    "                mid=(low+high)//2\n",
    "                if ans[mid]<nums[x]: #build increasing ans\n",
    "                    low=mid+1\n",
    "                else:\n",
    "                    high=mid-1\n",
    "            \n",
    "            if low>=len(ans):\n",
    "                ans.append(nums[x])\n",
    "            else:\n",
    "                ans[low]=nums[x]\n",
    "        return len(ans)"
   ]
  },
  {
   "cell_type": "code",
   "execution_count": null,
   "metadata": {},
   "outputs": [],
   "source": [
    "#Notice: this O(nlogn) algorithm only has right solution when we want the length, \n",
    "#but the ans is not the correct LIS we want.\n",
    "#like: the input nums=[10,9,2,5,3,7,101,18], then output ans=[2,3,7,18]\n",
    "#if nums=[10,9,2,5,3,7,101,18,6],then output ans=[2,3,6,18], not the LIS obviousely"
   ]
  },
  {
   "cell_type": "markdown",
   "metadata": {},
   "source": [
    "### 322. Coin Change"
   ]
  },
  {
   "cell_type": "code",
   "execution_count": null,
   "metadata": {},
   "outputs": [],
   "source": [
    "#recursive"
   ]
  },
  {
   "cell_type": "code",
   "execution_count": null,
   "metadata": {},
   "outputs": [],
   "source": [
    "class Solution:\n",
    "    def coinChange(self, coins: List[int], amount: int) -> int:\n",
    "        if amount == 0:\n",
    "            return 0\n",
    "        minNum=amount+1\n",
    "        if amount in coins: return 1\n",
    "        val_can = [ci for ci in coins if ci <= amount]\n",
    "        for c in val_can:\n",
    "            nums = self.coinChange(coins, amount-c)\n",
    "            if nums == -1:\n",
    "                continue\n",
    "            num=1+nums\n",
    "            if num < minNum:\n",
    "                minNum = num\n",
    "        if minNum == (amount + 1):\n",
    "            return -1\n",
    "        else: \n",
    "            return minNum\n",
    "    \n",
    "    #T:(amount^len(coins))"
   ]
  },
  {
   "cell_type": "code",
   "execution_count": null,
   "metadata": {},
   "outputs": [],
   "source": [
    "#DP\n",
    "#dp[i]=min(dp[i−coins[0]],dp[i−coins[1]],...dp[i−coins[k])+1，其中coins[k]<=i"
   ]
  },
  {
   "cell_type": "code",
   "execution_count": null,
   "metadata": {},
   "outputs": [],
   "source": [
    "class Solution:\n",
    "    def coinChange(self, coins: List[int], amount: int) -> int:\n",
    "        \n",
    "        #initial states\n",
    "        dp=[float('inf')]*(amount+1)\n",
    "        #dp[i] means the fewest #of coins made for amount=i\n",
    "        dp[0]=0\n",
    "    \n",
    "        for i in range(amount+1):\n",
    "            for coin in coins:\n",
    "                if i>=coin:\n",
    "                    dp[i]=min(dp[i], dp[i-coin]+1)\n",
    "       \n",
    "        #if dp[amount]>amount:return -1\n",
    "        #else:return dp[amount]\n",
    "        return dp[amount] if dp[amount]<=amount else -1\n",
    "    #O(amount*len(coins))\n",
    "    #space: O(amount)\n",
    "    #1304 ms, faster than 60.18%\n",
    "    #Memory Usage: 13.3 MB, less than 44.64% "
   ]
  },
  {
   "cell_type": "markdown",
   "metadata": {},
   "source": [
    "### 718. Maximum Length of Repeated Subarray"
   ]
  },
  {
   "cell_type": "code",
   "execution_count": null,
   "metadata": {},
   "outputs": [],
   "source": [
    "#use a 2-D array to store the # of repeated \n",
    "#functional equation: dp[i][j]=dp[i-1][j-1]+1"
   ]
  },
  {
   "cell_type": "code",
   "execution_count": null,
   "metadata": {},
   "outputs": [],
   "source": [
    "class Solution:\n",
    "    def findLength(self, A: List[int], B: List[int]) -> int:\n",
    "        maxlen = 0\n",
    "        dp = [[0 for i in range(len(B)+1)] for j in range(len(A)+1)] #col:len(B)+1, row:len(A)+1\n",
    "        for i in range(len(A)):\n",
    "            for j in range(len(B)):\n",
    "                if A[i]==B[j]:\n",
    "                    dp[i+1][j+1] = dp[i][j]+1\n",
    "                else:\n",
    "                    dp[i+1][j+1] = 0\n",
    "                maxlen = max(maxlen, dp[i+1][j+1])\n",
    "        return maxlen\n",
    "    #T: O(len(A)*len(B))\n",
    "    #S: O(len(A)*len(B))"
   ]
  },
  {
   "cell_type": "markdown",
   "metadata": {},
   "source": [
    "### 121. Best Time to Buy and Sell Stock\n",
    "#only one transaction"
   ]
  },
  {
   "cell_type": "code",
   "execution_count": null,
   "metadata": {},
   "outputs": [],
   "source": [
    "#Brute Force，一个一个比较，Time Limit Exceeded \n",
    "class Solution:\n",
    "    def maxProfit(self, prices: List[int]) -> int:\n",
    "        if len(prices)<=0: return 0\n",
    "        max_profit=[0 for i in range(len(prices))]\n",
    "        #max_profit[i] means the max profit when buy stock i\n",
    "        \n",
    "        for i in range(len(prices)):\n",
    "            for j in range(i+1, len(prices)):\n",
    "                max_profit[i]=max(max_profit[i], -prices[i]+prices[j])\n",
    "            \n",
    "        return max(max_profit)\n",
    "    #T:O(n^2), n(n-1)/2 runs, S: O(1)"
   ]
  },
  {
   "cell_type": "code",
   "execution_count": null,
   "metadata": {},
   "outputs": [],
   "source": [
    "##One-pass\n",
    "class Solution:\n",
    "    def maxProfit(self, prices: List[int]) -> int:\n",
    "        minprice=float('inf')\n",
    "        maxprofit=0\n",
    "        \n",
    "        #do two things when visit each element:\n",
    "        #1.compare with minprice, update the minprice\n",
    "        #2.compare with maxprofit, update the maxprofit\n",
    "        for i in range(len(prices)): \n",
    "            if prices[i]<minprice:\n",
    "                minprice=prices[i]\n",
    "            elif prices[i]-minprice>maxprofit:\n",
    "                maxprofit=prices[i]-minprice\n",
    "        \n",
    "        return maxprofit\n",
    "    #T:O(n) S:O(1)\n",
    "    #faster than 99.61%"
   ]
  },
  {
   "cell_type": "code",
   "execution_count": null,
   "metadata": {},
   "outputs": [],
   "source": [
    "#DP\n",
    "class Solution:\n",
    "    def maxProfit(self, prices: List[int]) -> int:\n",
    "        #DP\n",
    "        buy = float('-inf') #buy= money in hand after buy a stock \n",
    "        sell = 0   ##sell= money in hand after sell a stock \n",
    "        \n",
    "        #do two things when visit each stock price\n",
    "        #1.update money in hand after sell a stock(must buy first)\n",
    "        #2.update money in hand after buy a stock\n",
    "        #better if written in one line: buy,sell = max(buy, -price), max(sell, buy+price)\n",
    "        for x in prices:\n",
    "            buy =  max(buy, -x)\n",
    "            sell =  max(sell, buy+x) #the 'buy' is forwad one step than the 'buy' in next line\n",
    "    \n",
    "        return sell\n",
    "    \n",
    "    #T:O(n) S:O(1)\n",
    "    #faster than 76.63% "
   ]
  },
  {
   "cell_type": "markdown",
   "metadata": {},
   "source": [
    "### 123. Best Time to Buy and Sell Stock III\n",
    "#at most 2 transactions"
   ]
  },
  {
   "cell_type": "code",
   "execution_count": null,
   "metadata": {},
   "outputs": [],
   "source": [
    "#dp\n",
    "class Solution:\n",
    "    def maxProfit(self, prices: List[int]) -> int:\n",
    "        if len(prices)==0:\n",
    "            return 0\n",
    "        buy1,sell1 = float('-inf'),0\n",
    "        buy2,sell2 = float('-inf'),0\n",
    "        \n",
    "        for x in prices:\n",
    "            buy1=max(buy1, -x)\n",
    "            sell1=max(sell1, buy1+x)\n",
    "            buy2=max(buy2, sell1-x)\n",
    "            sell2=max(sell2, buy2+x)\n",
    "            #better if written in one line\n",
    "        return sell2\n",
    "    \n",
    "    #faster than 92.95%"
   ]
  },
  {
   "cell_type": "markdown",
   "metadata": {},
   "source": [
    "### 122. Best Time to Buy and Sell Stock II\n",
    "#as many as transaction you like"
   ]
  },
  {
   "cell_type": "code",
   "execution_count": null,
   "metadata": {},
   "outputs": [],
   "source": [
    "#travelsing, one-pass method\n",
    "class Solution:\n",
    "    def maxProfit(self, prices: List[int]) -> int:\n",
    "        if len(prices)<=1:\n",
    "            return 0\n",
    "        max_profit=0\n",
    "        \n",
    "        #do 1 things when visit each element:\n",
    "        #1. calculate the profit, if >0, add to max_profit \n",
    "        for i in range(1, len(prices)):\n",
    "            profit= prices[i]-prices[i-1]\n",
    "            if profit>=0:\n",
    "                max_profit += profit\n",
    "        return max_profit\n",
    "    #T: O(n), S: O(1)"
   ]
  },
  {
   "cell_type": "code",
   "execution_count": null,
   "metadata": {},
   "outputs": [],
   "source": [
    "#DP\n",
    "class Solution:\n",
    "    def maxProfit(self, prices: List[int]) -> int:\n",
    "        \n",
    "        #two initial states and memorization\n",
    "        buy=[float('-inf')]+[0 for i in prices]\n",
    "        sell=[0]+[0 for i in prices]\n",
    "        \n",
    "        for i in range(len(prices)):\n",
    "            #price=prices[i]\n",
    "            buy[i+1]=max(buy[i], sell[i]-prices[i])\n",
    "            sell[i+1]=max(buy[i]+prices[i], sell[i])\n",
    "        return sell[-1]\n",
    "   \n",
    "    #T: O(n), S: O(1)\n",
    "    #slower than one-pass method. max() is slower than if, and more storage than O(1)"
   ]
  },
  {
   "cell_type": "markdown",
   "metadata": {},
   "source": [
    "### 188. Best Time to Buy and Sell Stock IV\n",
    "#you can make at most k transactions, k is the input"
   ]
  },
  {
   "cell_type": "code",
   "execution_count": null,
   "metadata": {},
   "outputs": [],
   "source": [
    "#idea: based on Q122 & Q123, make a loop for sell and buy, too"
   ]
  },
  {
   "cell_type": "code",
   "execution_count": null,
   "metadata": {},
   "outputs": [],
   "source": [
    "class Solution:\n",
    "    def maxProfit(self, k: int, prices: List[int]) -> int:\n",
    "        if len(prices)<=1 or k==0:\n",
    "            return 0\n",
    "       \n",
    "        buy = [float('-inf') for i in range(k+1)]\n",
    "        sell = [0 for i in range(k+1)]\n",
    "        for x in prices:\n",
    "            for j in range(1,k+1):\n",
    "                    buy[j],sell[j] = max(buy[j], sell[j-1]-x), max(sell[j], buy[j]+x)\n",
    "                    \n",
    "#time limited exceed..."
   ]
  },
  {
   "cell_type": "markdown",
   "metadata": {},
   "source": [
    "### 714. Best Time to Buy and Sell Stock with Transaction Fee\n",
    "#you can make as many as transactions you like, but Transaction Fee exists"
   ]
  },
  {
   "cell_type": "code",
   "execution_count": null,
   "metadata": {},
   "outputs": [],
   "source": [
    "class Solution:\n",
    "    def maxProfit(self, prices: List[int], fee: int) -> int:\n",
    "        #DP, notice where to deduct the fee(only sell a stock need deduct the fee)\n",
    "        buy=float('-inf')\n",
    "        sell=0\n",
    "        \n",
    "        for x in prices:\n",
    "            \n",
    "            buy,sell=max(buy, sell-x), max(sell, buy+x-fee)\n",
    "        return sell\n",
    "    #faster than 66.74%\n",
    "    #T:O(n), S:O(1)"
   ]
  },
  {
   "cell_type": "code",
   "execution_count": null,
   "metadata": {},
   "outputs": [],
   "source": [
    "#Notice: if transaction fee exists, it's not easy to find where to deduct the fee"
   ]
  },
  {
   "cell_type": "markdown",
   "metadata": {},
   "source": [
    "### 309. Best Time to Buy and Sell Stock with Cooldown\n",
    "#you can make as many as transaction you like, but with 1 day cooldown"
   ]
  },
  {
   "cell_type": "code",
   "execution_count": null,
   "metadata": {},
   "outputs": [],
   "source": [
    "class Solution:\n",
    "    def maxProfit(self, prices: List[int]) -> int:\n",
    "        #3 states: buy, sell, cooldown\n",
    "        #functional equation: buy->cooldown, sell->buy,sell,  cooldown->sell\n",
    "        \n",
    "        buy, sell=float('-inf'), 0\n",
    "        cooldown=0\n",
    "        \n",
    "        for x in prices:\n",
    "            buy, sell, cooldown = max(buy, sell-x), max(sell, cooldown), buy+x\n",
    "            \n",
    "        return max(sell,cooldown)\n",
    "    #T:O(n), S:O(1)"
   ]
  }
 ],
 "metadata": {
  "kernelspec": {
   "display_name": "Python 3",
   "language": "python",
   "name": "python3"
  },
  "language_info": {
   "codemirror_mode": {
    "name": "ipython",
    "version": 3
   },
   "file_extension": ".py",
   "mimetype": "text/x-python",
   "name": "python",
   "nbconvert_exporter": "python",
   "pygments_lexer": "ipython3",
   "version": "3.6.5"
  }
 },
 "nbformat": 4,
 "nbformat_minor": 2
}
